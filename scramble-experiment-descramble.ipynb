{
 "cells": [
  {
   "cell_type": "markdown",
   "metadata": {},
   "source": [
    "This experiment shows that even after the pixels in hand-written digits images are scrambled, they can still be clustered effectively by t-SNE. It means that t-SNE doesn't take information about the translation/rotaional/illumination invariance in an image for clustering, which is very different from typical image recognition tasks. t-SNE itself doesn't have much to do with images, either."
   ]
  },
  {
   "cell_type": "code",
   "execution_count": 1,
   "metadata": {
    "collapsed": false
   },
   "outputs": [],
   "source": [
    "import itertools\n",
    "\n",
    "import pandas as pd\n",
    "\n",
    "# That's an impressive list of imports.\n",
    "import numpy as np\n",
    "from numpy import linalg\n",
    "from numpy.linalg import norm\n",
    "from scipy.spatial.distance import squareform, pdist\n",
    "\n",
    "# We import sklearn.\n",
    "import sklearn\n",
    "from sklearn.manifold import TSNE\n",
    "from sklearn.datasets import load_digits\n",
    "from sklearn.preprocessing import scale\n",
    "\n",
    "# We'll hack a bit with the t-SNE code in sklearn 0.15.2.\n",
    "from sklearn.metrics.pairwise import pairwise_distances\n",
    "from sklearn.manifold.t_sne import (_joint_probabilities,\n",
    "                                    _kl_divergence)\n",
    "from sklearn.utils.extmath import _ravel\n",
    "# Random state.\n",
    "RS = 20150101\n",
    "\n",
    "# We'll use matplotlib for graphics.\n",
    "import matplotlib.pyplot as plt\n",
    "import matplotlib.patheffects as PathEffects\n",
    "import matplotlib\n",
    "%matplotlib inline\n",
    "\n",
    "# We import seaborn to make nice plots.\n",
    "import seaborn as sns\n",
    "sns.set_style('darkgrid')\n",
    "sns.set_palette('muted')\n",
    "sns.set_context(\"notebook\", font_scale=1.5,\n",
    "                rc={\"lines.linewidth\": 2.5})\n",
    "\n",
    "# We'll generate an animation with matplotlib and moviepy.\n",
    "from moviepy.video.io.bindings import mplfig_to_npimage\n",
    "import moviepy.editor as mpy"
   ]
  },
  {
   "cell_type": "code",
   "execution_count": 2,
   "metadata": {
    "collapsed": true
   },
   "outputs": [],
   "source": [
    "def scatter(x, colors):\n",
    "    # We choose a color palette with seaborn.\n",
    "    palette = np.array(sns.color_palette(\"hls\", 10))\n",
    "\n",
    "    # We create a scatter plot.\n",
    "    f = plt.figure(figsize=(8, 8))\n",
    "    ax = plt.subplot(aspect='equal')\n",
    "    sc = ax.scatter(x[:,0], x[:,1], lw=0, s=40,\n",
    "                    c=palette[colors.astype(np.int)])\n",
    "    plt.xlim(-25, 25)\n",
    "    plt.ylim(-25, 25)\n",
    "    ax.axis('off')\n",
    "    ax.axis('tight')\n",
    "\n",
    "    # We add the labels for each digit.\n",
    "    txts = []\n",
    "    for i in range(10):\n",
    "        # Position of each label.\n",
    "        xtext, ytext = np.median(x[colors == i, :], axis=0)\n",
    "        txt = ax.text(xtext, ytext, str(i), fontsize=24)\n",
    "        txt.set_path_effects([\n",
    "            PathEffects.Stroke(linewidth=5, foreground=\"w\"),\n",
    "            PathEffects.Normal()])\n",
    "        txts.append(txt)\n",
    "\n",
    "    return f, ax, sc, txts"
   ]
  },
  {
   "cell_type": "markdown",
   "metadata": {},
   "source": [
    "### Load data"
   ]
  },
  {
   "cell_type": "code",
   "execution_count": 3,
   "metadata": {
    "collapsed": false
   },
   "outputs": [
    {
     "data": {
      "text/plain": [
       "(1797, 64)"
      ]
     },
     "execution_count": 3,
     "metadata": {},
     "output_type": "execute_result"
    }
   ],
   "source": [
    "digits = load_digits()\n",
    "digits.data.shape"
   ]
  },
  {
   "cell_type": "code",
   "execution_count": null,
   "metadata": {
    "collapsed": true
   },
   "outputs": [],
   "source": []
  },
  {
   "cell_type": "code",
   "execution_count": null,
   "metadata": {
    "collapsed": true
   },
   "outputs": [],
   "source": []
  },
  {
   "cell_type": "code",
   "execution_count": null,
   "metadata": {
    "collapsed": true
   },
   "outputs": [],
   "source": []
  },
  {
   "cell_type": "markdown",
   "metadata": {},
   "source": [
    "### After scramble"
   ]
  },
  {
   "cell_type": "code",
   "execution_count": 4,
   "metadata": {
    "collapsed": false
   },
   "outputs": [
    {
     "data": {
      "text/plain": [
       "(1797, 8, 8)"
      ]
     },
     "execution_count": 4,
     "metadata": {},
     "output_type": "execute_result"
    }
   ],
   "source": [
    "digits.images.shape"
   ]
  },
  {
   "cell_type": "code",
   "execution_count": 5,
   "metadata": {
    "collapsed": false
   },
   "outputs": [
    {
     "data": {
      "text/plain": [
       "8"
      ]
     },
     "execution_count": 5,
     "metadata": {},
     "output_type": "execute_result"
    }
   ],
   "source": [
    "dim = digits.images.shape[1]\n",
    "dim"
   ]
  },
  {
   "cell_type": "code",
   "execution_count": 6,
   "metadata": {
    "collapsed": false
   },
   "outputs": [
    {
     "data": {
      "text/plain": [
       "array([[ 3,  4, 44, 35, 22, 41, 58, 52],\n",
       "       [24, 12,  7, 13,  8, 17, 50,  5],\n",
       "       [33, 31,  2,  6, 57, 23, 53, 40],\n",
       "       [26, 42, 28, 16, 18,  1, 29, 25],\n",
       "       [14, 59, 54, 60, 37, 34, 56, 51],\n",
       "       [30, 62, 10, 11, 61, 47, 48, 55],\n",
       "       [45, 15, 46, 63, 39, 49, 43, 38],\n",
       "       [32, 20,  0, 21,  9, 19, 27, 36]])"
      ]
     },
     "execution_count": 6,
     "metadata": {},
     "output_type": "execute_result"
    }
   ],
   "source": [
    "# Generated scrambled indexes\n",
    "idxes = np.random.permutation(dim ** 2).reshape((dim, dim))\n",
    "idxes"
   ]
  },
  {
   "cell_type": "code",
   "execution_count": 7,
   "metadata": {
    "collapsed": false
   },
   "outputs": [
    {
     "data": {
      "image/png": "[encoded data removed]",
      "text/plain": [
       "<matplotlib.figure.Figure at 0x7f79e1278290>"
      ]
     },
     "metadata": {},
     "output_type": "display_data"
    }
   ],
   "source": [
    "# Show scrambled images\n",
    "nrows, ncols = 2, 5\n",
    "plt.figure(figsize=(6,3))\n",
    "# plt.gray()\n",
    "for i in range(ncols * nrows):\n",
    "    ax = plt.subplot(nrows, ncols, i + 1)\n",
    "    ax.matshow(digits.images[i,...].ravel()[idxes])\n",
    "    plt.xticks([]); plt.yticks([])\n",
    "    plt.title(digits.target[i])"
   ]
  },
  {
   "cell_type": "code",
   "execution_count": 8,
   "metadata": {
    "collapsed": true
   },
   "outputs": [],
   "source": [
    "# We first reorder the data points according to the handwritten numbers.\n",
    "X = np.vstack([digits.data[digits.target==i]\n",
    "               for i in range(10)])\n",
    "y = np.hstack([digits.target[digits.target==i]\n",
    "               for i in range(10)])"
   ]
  },
  {
   "cell_type": "code",
   "execution_count": 9,
   "metadata": {
    "collapsed": true
   },
   "outputs": [],
   "source": [
    "df_X = pd.DataFrame(X)"
   ]
  },
  {
   "cell_type": "code",
   "execution_count": 10,
   "metadata": {
    "collapsed": false
   },
   "outputs": [
    {
     "data": {
      "text/plain": [
       "(1797, 64)"
      ]
     },
     "execution_count": 10,
     "metadata": {},
     "output_type": "execute_result"
    }
   ],
   "source": [
    "df_X.shape"
   ]
  },
  {
   "cell_type": "code",
   "execution_count": 11,
   "metadata": {
    "collapsed": false
   },
   "outputs": [
    {
     "data": {
      "text/html": [
       "<div>\n",
       "<table border=\"1\" class=\"dataframe\">\n",
       "  <thead>\n",
       "    <tr style=\"text-align: right;\">\n",
       "      <th></th>\n",
       "      <th>0</th>\n",
       "      <th>1</th>\n",
       "      <th>2</th>\n",
       "      <th>3</th>\n",
       "      <th>4</th>\n",
       "      <th>5</th>\n",
       "      <th>6</th>\n",
       "      <th>7</th>\n",
       "      <th>8</th>\n",
       "      <th>9</th>\n",
       "      <th>...</th>\n",
       "      <th>54</th>\n",
       "      <th>55</th>\n",
       "      <th>56</th>\n",
       "      <th>57</th>\n",
       "      <th>58</th>\n",
       "      <th>59</th>\n",
       "      <th>60</th>\n",
       "      <th>61</th>\n",
       "      <th>62</th>\n",
       "      <th>63</th>\n",
       "    </tr>\n",
       "  </thead>\n",
       "  <tbody>\n",
       "    <tr>\n",
       "      <th>0</th>\n",
       "      <td>0.0</td>\n",
       "      <td>0.0</td>\n",
       "      <td>5.0</td>\n",
       "      <td>13.0</td>\n",
       "      <td>9.0</td>\n",
       "      <td>1.0</td>\n",
       "      <td>0.0</td>\n",
       "      <td>0.0</td>\n",
       "      <td>0.0</td>\n",
       "      <td>0.0</td>\n",
       "      <td>...</td>\n",
       "      <td>0.0</td>\n",
       "      <td>0.0</td>\n",
       "      <td>0.0</td>\n",
       "      <td>0.0</td>\n",
       "      <td>6.0</td>\n",
       "      <td>13.0</td>\n",
       "      <td>10.0</td>\n",
       "      <td>0.0</td>\n",
       "      <td>0.0</td>\n",
       "      <td>0.0</td>\n",
       "    </tr>\n",
       "  </tbody>\n",
       "</table>\n",
       "<p>1 rows × 64 columns</p>\n",
       "</div>"
      ],
      "text/plain": [
       "    0    1    2     3    4    5    6    7    8    9  ...    54   55   56   57  \\\n",
       "0  0.0  0.0  5.0  13.0  9.0  1.0  0.0  0.0  0.0  0.0 ...   0.0  0.0  0.0  0.0   \n",
       "\n",
       "    58    59    60   61   62   63  \n",
       "0  6.0  13.0  10.0  0.0  0.0  0.0  \n",
       "\n",
       "[1 rows x 64 columns]"
      ]
     },
     "execution_count": 11,
     "metadata": {},
     "output_type": "execute_result"
    }
   ],
   "source": [
    "df_X.head(1)"
   ]
  },
  {
   "cell_type": "code",
   "execution_count": 12,
   "metadata": {
    "collapsed": false
   },
   "outputs": [
    {
     "data": {
      "text/html": [
       "<div>\n",
       "<table border=\"1\" class=\"dataframe\">\n",
       "  <thead>\n",
       "    <tr style=\"text-align: right;\">\n",
       "      <th></th>\n",
       "      <th>3</th>\n",
       "      <th>4</th>\n",
       "      <th>44</th>\n",
       "      <th>35</th>\n",
       "      <th>22</th>\n",
       "      <th>41</th>\n",
       "      <th>58</th>\n",
       "      <th>52</th>\n",
       "      <th>24</th>\n",
       "      <th>12</th>\n",
       "      <th>...</th>\n",
       "      <th>43</th>\n",
       "      <th>38</th>\n",
       "      <th>32</th>\n",
       "      <th>20</th>\n",
       "      <th>0</th>\n",
       "      <th>21</th>\n",
       "      <th>9</th>\n",
       "      <th>19</th>\n",
       "      <th>27</th>\n",
       "      <th>36</th>\n",
       "    </tr>\n",
       "  </thead>\n",
       "  <tbody>\n",
       "    <tr>\n",
       "      <th>0</th>\n",
       "      <td>13.0</td>\n",
       "      <td>9.0</td>\n",
       "      <td>1.0</td>\n",
       "      <td>0.0</td>\n",
       "      <td>8.0</td>\n",
       "      <td>4.0</td>\n",
       "      <td>6.0</td>\n",
       "      <td>10.0</td>\n",
       "      <td>0.0</td>\n",
       "      <td>10.0</td>\n",
       "      <td>...</td>\n",
       "      <td>0.0</td>\n",
       "      <td>8.0</td>\n",
       "      <td>0.0</td>\n",
       "      <td>0.0</td>\n",
       "      <td>0.0</td>\n",
       "      <td>11.0</td>\n",
       "      <td>0.0</td>\n",
       "      <td>2.0</td>\n",
       "      <td>0.0</td>\n",
       "      <td>0.0</td>\n",
       "    </tr>\n",
       "  </tbody>\n",
       "</table>\n",
       "<p>1 rows × 64 columns</p>\n",
       "</div>"
      ],
      "text/plain": [
       "     3    4    44   35   22   41   58    52   24    12 ...    43   38   32  \\\n",
       "0  13.0  9.0  1.0  0.0  8.0  4.0  6.0  10.0  0.0  10.0 ...   0.0  8.0  0.0   \n",
       "\n",
       "    20   0     21   9    19   27   36  \n",
       "0  0.0  0.0  11.0  0.0  2.0  0.0  0.0  \n",
       "\n",
       "[1 rows x 64 columns]"
      ]
     },
     "execution_count": 12,
     "metadata": {},
     "output_type": "execute_result"
    }
   ],
   "source": [
    "df_X_scrambled = df_X[df_X.columns[idxes.ravel()]]\n",
    "df_X_scrambled.head(1)"
   ]
  },
  {
   "cell_type": "code",
   "execution_count": 13,
   "metadata": {
    "collapsed": false
   },
   "outputs": [
    {
     "data": {
      "image/png": "[encoded data removed]",
      "text/plain": [
       "<matplotlib.figure.Figure at 0x7f79c65cfdd0>"
      ]
     },
     "metadata": {},
     "output_type": "display_data"
    }
   ],
   "source": [
    "# Make sure columns in df_X_scrambled is indeed scrambled\n",
    "nrows, ncols = 2, 5\n",
    "plt.figure(figsize=(6,3))\n",
    "# plt.gray()\n",
    "sampled = df_X_scrambled.sample(nrows * ncols).reset_index(drop=True)\n",
    "for i in range(ncols * nrows):\n",
    "    ax = plt.subplot(nrows, ncols, i + 1)\n",
    "    ax.matshow(sampled.iloc[i].reshape(dim, dim))\n",
    "    plt.xticks([]); \n",
    "    plt.yticks([])"
   ]
  },
  {
   "cell_type": "code",
   "execution_count": null,
   "metadata": {
    "collapsed": true
   },
   "outputs": [],
   "source": []
  },
  {
   "cell_type": "code",
   "execution_count": null,
   "metadata": {
    "collapsed": true
   },
   "outputs": [],
   "source": []
  },
  {
   "cell_type": "code",
   "execution_count": null,
   "metadata": {
    "collapsed": true
   },
   "outputs": [],
   "source": []
  },
  {
   "cell_type": "code",
   "execution_count": 23,
   "metadata": {
    "collapsed": true
   },
   "outputs": [],
   "source": [
    "df = df_X_scrambled.copy()"
   ]
  },
  {
   "cell_type": "code",
   "execution_count": 24,
   "metadata": {
    "collapsed": true
   },
   "outputs": [],
   "source": [
    "df['y'] = y"
   ]
  },
  {
   "cell_type": "code",
   "execution_count": 25,
   "metadata": {
    "collapsed": false
   },
   "outputs": [],
   "source": [
    "df = df[df.y == 0]"
   ]
  },
  {
   "cell_type": "code",
   "execution_count": 26,
   "metadata": {
    "collapsed": true
   },
   "outputs": [],
   "source": [
    "# reorder pixel based on 0 images only, which may emphasize the right order\n",
    "df.drop('y', axis=1, inplace=True)"
   ]
  },
  {
   "cell_type": "code",
   "execution_count": 27,
   "metadata": {
    "collapsed": true
   },
   "outputs": [],
   "source": [
    "df.rename(columns=dict(zip(df.columns.values, range(df.columns.shape[0]))), inplace=True)"
   ]
  },
  {
   "cell_type": "code",
   "execution_count": 28,
   "metadata": {
    "collapsed": false
   },
   "outputs": [
    {
     "data": {
      "text/plain": [
       "(178, 64)"
      ]
     },
     "execution_count": 28,
     "metadata": {},
     "output_type": "execute_result"
    }
   ],
   "source": [
    "df.shape"
   ]
  },
  {
   "cell_type": "code",
   "execution_count": 29,
   "metadata": {
    "collapsed": false
   },
   "outputs": [
    {
     "data": {
      "text/html": [
       "<div>\n",
       "<table border=\"1\" class=\"dataframe\">\n",
       "  <thead>\n",
       "    <tr style=\"text-align: right;\">\n",
       "      <th></th>\n",
       "      <th>0</th>\n",
       "      <th>1</th>\n",
       "      <th>2</th>\n",
       "      <th>3</th>\n",
       "      <th>4</th>\n",
       "      <th>5</th>\n",
       "      <th>6</th>\n",
       "      <th>7</th>\n",
       "      <th>8</th>\n",
       "      <th>9</th>\n",
       "      <th>...</th>\n",
       "      <th>54</th>\n",
       "      <th>55</th>\n",
       "      <th>56</th>\n",
       "      <th>57</th>\n",
       "      <th>58</th>\n",
       "      <th>59</th>\n",
       "      <th>60</th>\n",
       "      <th>61</th>\n",
       "      <th>62</th>\n",
       "      <th>63</th>\n",
       "    </tr>\n",
       "  </thead>\n",
       "  <tbody>\n",
       "    <tr>\n",
       "      <th>0</th>\n",
       "      <td>13.0</td>\n",
       "      <td>9.0</td>\n",
       "      <td>1.0</td>\n",
       "      <td>0.0</td>\n",
       "      <td>8.0</td>\n",
       "      <td>4.0</td>\n",
       "      <td>6.0</td>\n",
       "      <td>10.0</td>\n",
       "      <td>0.0</td>\n",
       "      <td>10.0</td>\n",
       "      <td>...</td>\n",
       "      <td>0.0</td>\n",
       "      <td>8.0</td>\n",
       "      <td>0.0</td>\n",
       "      <td>0.0</td>\n",
       "      <td>0.0</td>\n",
       "      <td>11.0</td>\n",
       "      <td>0.0</td>\n",
       "      <td>2.0</td>\n",
       "      <td>0.0</td>\n",
       "      <td>0.0</td>\n",
       "    </tr>\n",
       "  </tbody>\n",
       "</table>\n",
       "<p>1 rows × 64 columns</p>\n",
       "</div>"
      ],
      "text/plain": [
       "     0    1    2    3    4    5    6     7    8     9  ...    54   55   56  \\\n",
       "0  13.0  9.0  1.0  0.0  8.0  4.0  6.0  10.0  0.0  10.0 ...   0.0  8.0  0.0   \n",
       "\n",
       "    57   58    59   60   61   62   63  \n",
       "0  0.0  0.0  11.0  0.0  2.0  0.0  0.0  \n",
       "\n",
       "[1 rows x 64 columns]"
      ]
     },
     "execution_count": 29,
     "metadata": {},
     "output_type": "execute_result"
    }
   ],
   "source": [
    "df.head(1)"
   ]
  },
  {
   "cell_type": "code",
   "execution_count": 30,
   "metadata": {
    "collapsed": false
   },
   "outputs": [],
   "source": [
    "df.rename(columns=dict(zip(df.columns.values, range(df.columns.shape[0]))), inplace=True)"
   ]
  },
  {
   "cell_type": "code",
   "execution_count": 31,
   "metadata": {
    "collapsed": false
   },
   "outputs": [
    {
     "data": {
      "text/html": [
       "<div>\n",
       "<table border=\"1\" class=\"dataframe\">\n",
       "  <thead>\n",
       "    <tr style=\"text-align: right;\">\n",
       "      <th></th>\n",
       "      <th>0</th>\n",
       "      <th>1</th>\n",
       "      <th>2</th>\n",
       "      <th>3</th>\n",
       "      <th>4</th>\n",
       "      <th>5</th>\n",
       "      <th>6</th>\n",
       "      <th>7</th>\n",
       "      <th>8</th>\n",
       "      <th>9</th>\n",
       "      <th>...</th>\n",
       "      <th>54</th>\n",
       "      <th>55</th>\n",
       "      <th>56</th>\n",
       "      <th>57</th>\n",
       "      <th>58</th>\n",
       "      <th>59</th>\n",
       "      <th>60</th>\n",
       "      <th>61</th>\n",
       "      <th>62</th>\n",
       "      <th>63</th>\n",
       "    </tr>\n",
       "  </thead>\n",
       "  <tbody>\n",
       "    <tr>\n",
       "      <th>0</th>\n",
       "      <td>13.0</td>\n",
       "      <td>9.0</td>\n",
       "      <td>1.0</td>\n",
       "      <td>0.0</td>\n",
       "      <td>8.0</td>\n",
       "      <td>4.0</td>\n",
       "      <td>6.0</td>\n",
       "      <td>10.0</td>\n",
       "      <td>0.0</td>\n",
       "      <td>10.0</td>\n",
       "      <td>...</td>\n",
       "      <td>0.0</td>\n",
       "      <td>8.0</td>\n",
       "      <td>0.0</td>\n",
       "      <td>0.0</td>\n",
       "      <td>0.0</td>\n",
       "      <td>11.0</td>\n",
       "      <td>0.0</td>\n",
       "      <td>2.0</td>\n",
       "      <td>0.0</td>\n",
       "      <td>0.0</td>\n",
       "    </tr>\n",
       "  </tbody>\n",
       "</table>\n",
       "<p>1 rows × 64 columns</p>\n",
       "</div>"
      ],
      "text/plain": [
       "     0    1    2    3    4    5    6     7    8     9  ...    54   55   56  \\\n",
       "0  13.0  9.0  1.0  0.0  8.0  4.0  6.0  10.0  0.0  10.0 ...   0.0  8.0  0.0   \n",
       "\n",
       "    57   58    59   60   61   62   63  \n",
       "0  0.0  0.0  11.0  0.0  2.0  0.0  0.0  \n",
       "\n",
       "[1 rows x 64 columns]"
      ]
     },
     "execution_count": 31,
     "metadata": {},
     "output_type": "execute_result"
    }
   ],
   "source": [
    "df.head(1)"
   ]
  },
  {
   "cell_type": "code",
   "execution_count": 32,
   "metadata": {
    "collapsed": true
   },
   "outputs": [],
   "source": [
    "# just use the result dataframe as a placeholder\n",
    "corr = df.corr()\n",
    "corr.iloc[:,:] = -1"
   ]
  },
  {
   "cell_type": "code",
   "execution_count": 33,
   "metadata": {
    "collapsed": false
   },
   "outputs": [
    {
     "data": {
      "text/html": [
       "<div>\n",
       "<table border=\"1\" class=\"dataframe\">\n",
       "  <thead>\n",
       "    <tr style=\"text-align: right;\">\n",
       "      <th></th>\n",
       "      <th>0</th>\n",
       "      <th>1</th>\n",
       "      <th>2</th>\n",
       "      <th>3</th>\n",
       "      <th>4</th>\n",
       "      <th>5</th>\n",
       "      <th>6</th>\n",
       "      <th>7</th>\n",
       "      <th>8</th>\n",
       "      <th>9</th>\n",
       "      <th>...</th>\n",
       "      <th>54</th>\n",
       "      <th>55</th>\n",
       "      <th>56</th>\n",
       "      <th>57</th>\n",
       "      <th>58</th>\n",
       "      <th>59</th>\n",
       "      <th>60</th>\n",
       "      <th>61</th>\n",
       "      <th>62</th>\n",
       "      <th>63</th>\n",
       "    </tr>\n",
       "  </thead>\n",
       "  <tbody>\n",
       "    <tr>\n",
       "      <th>0</th>\n",
       "      <td>-1.0</td>\n",
       "      <td>-1.0</td>\n",
       "      <td>-1.0</td>\n",
       "      <td>-1.0</td>\n",
       "      <td>-1.0</td>\n",
       "      <td>-1.0</td>\n",
       "      <td>-1.0</td>\n",
       "      <td>-1.0</td>\n",
       "      <td>-1.0</td>\n",
       "      <td>-1.0</td>\n",
       "      <td>...</td>\n",
       "      <td>-1.0</td>\n",
       "      <td>-1.0</td>\n",
       "      <td>-1.0</td>\n",
       "      <td>-1.0</td>\n",
       "      <td>-1.0</td>\n",
       "      <td>-1.0</td>\n",
       "      <td>-1.0</td>\n",
       "      <td>-1.0</td>\n",
       "      <td>-1.0</td>\n",
       "      <td>-1.0</td>\n",
       "    </tr>\n",
       "    <tr>\n",
       "      <th>1</th>\n",
       "      <td>-1.0</td>\n",
       "      <td>-1.0</td>\n",
       "      <td>-1.0</td>\n",
       "      <td>-1.0</td>\n",
       "      <td>-1.0</td>\n",
       "      <td>-1.0</td>\n",
       "      <td>-1.0</td>\n",
       "      <td>-1.0</td>\n",
       "      <td>-1.0</td>\n",
       "      <td>-1.0</td>\n",
       "      <td>...</td>\n",
       "      <td>-1.0</td>\n",
       "      <td>-1.0</td>\n",
       "      <td>-1.0</td>\n",
       "      <td>-1.0</td>\n",
       "      <td>-1.0</td>\n",
       "      <td>-1.0</td>\n",
       "      <td>-1.0</td>\n",
       "      <td>-1.0</td>\n",
       "      <td>-1.0</td>\n",
       "      <td>-1.0</td>\n",
       "    </tr>\n",
       "    <tr>\n",
       "      <th>2</th>\n",
       "      <td>-1.0</td>\n",
       "      <td>-1.0</td>\n",
       "      <td>-1.0</td>\n",
       "      <td>-1.0</td>\n",
       "      <td>-1.0</td>\n",
       "      <td>-1.0</td>\n",
       "      <td>-1.0</td>\n",
       "      <td>-1.0</td>\n",
       "      <td>-1.0</td>\n",
       "      <td>-1.0</td>\n",
       "      <td>...</td>\n",
       "      <td>-1.0</td>\n",
       "      <td>-1.0</td>\n",
       "      <td>-1.0</td>\n",
       "      <td>-1.0</td>\n",
       "      <td>-1.0</td>\n",
       "      <td>-1.0</td>\n",
       "      <td>-1.0</td>\n",
       "      <td>-1.0</td>\n",
       "      <td>-1.0</td>\n",
       "      <td>-1.0</td>\n",
       "    </tr>\n",
       "    <tr>\n",
       "      <th>3</th>\n",
       "      <td>-1.0</td>\n",
       "      <td>-1.0</td>\n",
       "      <td>-1.0</td>\n",
       "      <td>-1.0</td>\n",
       "      <td>-1.0</td>\n",
       "      <td>-1.0</td>\n",
       "      <td>-1.0</td>\n",
       "      <td>-1.0</td>\n",
       "      <td>-1.0</td>\n",
       "      <td>-1.0</td>\n",
       "      <td>...</td>\n",
       "      <td>-1.0</td>\n",
       "      <td>-1.0</td>\n",
       "      <td>-1.0</td>\n",
       "      <td>-1.0</td>\n",
       "      <td>-1.0</td>\n",
       "      <td>-1.0</td>\n",
       "      <td>-1.0</td>\n",
       "      <td>-1.0</td>\n",
       "      <td>-1.0</td>\n",
       "      <td>-1.0</td>\n",
       "    </tr>\n",
       "    <tr>\n",
       "      <th>4</th>\n",
       "      <td>-1.0</td>\n",
       "      <td>-1.0</td>\n",
       "      <td>-1.0</td>\n",
       "      <td>-1.0</td>\n",
       "      <td>-1.0</td>\n",
       "      <td>-1.0</td>\n",
       "      <td>-1.0</td>\n",
       "      <td>-1.0</td>\n",
       "      <td>-1.0</td>\n",
       "      <td>-1.0</td>\n",
       "      <td>...</td>\n",
       "      <td>-1.0</td>\n",
       "      <td>-1.0</td>\n",
       "      <td>-1.0</td>\n",
       "      <td>-1.0</td>\n",
       "      <td>-1.0</td>\n",
       "      <td>-1.0</td>\n",
       "      <td>-1.0</td>\n",
       "      <td>-1.0</td>\n",
       "      <td>-1.0</td>\n",
       "      <td>-1.0</td>\n",
       "    </tr>\n",
       "  </tbody>\n",
       "</table>\n",
       "<p>5 rows × 64 columns</p>\n",
       "</div>"
      ],
      "text/plain": [
       "    0    1    2    3    4    5    6    7    8    9  ...    54   55   56   57  \\\n",
       "0 -1.0 -1.0 -1.0 -1.0 -1.0 -1.0 -1.0 -1.0 -1.0 -1.0 ...  -1.0 -1.0 -1.0 -1.0   \n",
       "1 -1.0 -1.0 -1.0 -1.0 -1.0 -1.0 -1.0 -1.0 -1.0 -1.0 ...  -1.0 -1.0 -1.0 -1.0   \n",
       "2 -1.0 -1.0 -1.0 -1.0 -1.0 -1.0 -1.0 -1.0 -1.0 -1.0 ...  -1.0 -1.0 -1.0 -1.0   \n",
       "3 -1.0 -1.0 -1.0 -1.0 -1.0 -1.0 -1.0 -1.0 -1.0 -1.0 ...  -1.0 -1.0 -1.0 -1.0   \n",
       "4 -1.0 -1.0 -1.0 -1.0 -1.0 -1.0 -1.0 -1.0 -1.0 -1.0 ...  -1.0 -1.0 -1.0 -1.0   \n",
       "\n",
       "    58   59   60   61   62   63  \n",
       "0 -1.0 -1.0 -1.0 -1.0 -1.0 -1.0  \n",
       "1 -1.0 -1.0 -1.0 -1.0 -1.0 -1.0  \n",
       "2 -1.0 -1.0 -1.0 -1.0 -1.0 -1.0  \n",
       "3 -1.0 -1.0 -1.0 -1.0 -1.0 -1.0  \n",
       "4 -1.0 -1.0 -1.0 -1.0 -1.0 -1.0  \n",
       "\n",
       "[5 rows x 64 columns]"
      ]
     },
     "execution_count": 33,
     "metadata": {},
     "output_type": "execute_result"
    }
   ],
   "source": [
    "corr.head()"
   ]
  },
  {
   "cell_type": "code",
   "execution_count": 34,
   "metadata": {
    "collapsed": false
   },
   "outputs": [],
   "source": [
    "# df.loc[:, 7].describe()"
   ]
  },
  {
   "cell_type": "code",
   "execution_count": 35,
   "metadata": {
    "collapsed": false
   },
   "outputs": [],
   "source": [
    "# 25491 is pretty big a number!\n",
    "assert list(itertools.combinations_with_replacement([1, 2, 3], 2)) == [(1, 1), (1, 2), (1, 3), (2, 2), (2, 3), (3, 3)]\n",
    "assert np.correlate(df.loc[:, 9], df.loc[:, 37]) == np.correlate(df.loc[:, 37], df.loc[:, 9])"
   ]
  },
  {
   "cell_type": "code",
   "execution_count": 36,
   "metadata": {
    "collapsed": false
   },
   "outputs": [],
   "source": [
    "for col_a, col_b in itertools.combinations_with_replacement(df.columns.tolist(), 2):\n",
    "    corr.loc[col_a, col_b] = np.correlate(df[col_a], df[col_b])\n",
    "    if col_a != col_b:\n",
    "        corr.loc[col_b, col_a] = np.correlate(df[col_b], df[col_a])"
   ]
  },
  {
   "cell_type": "code",
   "execution_count": 37,
   "metadata": {
    "collapsed": false
   },
   "outputs": [
    {
     "data": {
      "text/html": [
       "<div>\n",
       "<table border=\"1\" class=\"dataframe\">\n",
       "  <thead>\n",
       "    <tr style=\"text-align: right;\">\n",
       "      <th></th>\n",
       "      <th>0</th>\n",
       "      <th>1</th>\n",
       "      <th>2</th>\n",
       "      <th>3</th>\n",
       "      <th>4</th>\n",
       "      <th>5</th>\n",
       "      <th>6</th>\n",
       "      <th>7</th>\n",
       "      <th>8</th>\n",
       "      <th>9</th>\n",
       "      <th>...</th>\n",
       "      <th>54</th>\n",
       "      <th>55</th>\n",
       "      <th>56</th>\n",
       "      <th>57</th>\n",
       "      <th>58</th>\n",
       "      <th>59</th>\n",
       "      <th>60</th>\n",
       "      <th>61</th>\n",
       "      <th>62</th>\n",
       "      <th>63</th>\n",
       "    </tr>\n",
       "  </thead>\n",
       "  <tbody>\n",
       "    <tr>\n",
       "      <th>0</th>\n",
       "      <td>31419.0</td>\n",
       "      <td>26499.0</td>\n",
       "      <td>3400.0</td>\n",
       "      <td>2120.0</td>\n",
       "      <td>8237.0</td>\n",
       "      <td>8281.0</td>\n",
       "      <td>9848.0</td>\n",
       "      <td>24173.0</td>\n",
       "      <td>0.0</td>\n",
       "      <td>26851.0</td>\n",
       "      <td>...</td>\n",
       "      <td>3849.0</td>\n",
       "      <td>16808.0</td>\n",
       "      <td>0.0</td>\n",
       "      <td>4999.0</td>\n",
       "      <td>0.0</td>\n",
       "      <td>28669.0</td>\n",
       "      <td>2119.0</td>\n",
       "      <td>12184.0</td>\n",
       "      <td>4661.0</td>\n",
       "      <td>89.0</td>\n",
       "    </tr>\n",
       "    <tr>\n",
       "      <th>1</th>\n",
       "      <td>26499.0</td>\n",
       "      <td>24787.0</td>\n",
       "      <td>3350.0</td>\n",
       "      <td>1813.0</td>\n",
       "      <td>7683.0</td>\n",
       "      <td>7134.0</td>\n",
       "      <td>8319.0</td>\n",
       "      <td>20963.0</td>\n",
       "      <td>0.0</td>\n",
       "      <td>22177.0</td>\n",
       "      <td>...</td>\n",
       "      <td>3430.0</td>\n",
       "      <td>14263.0</td>\n",
       "      <td>0.0</td>\n",
       "      <td>3451.0</td>\n",
       "      <td>0.0</td>\n",
       "      <td>24174.0</td>\n",
       "      <td>1839.0</td>\n",
       "      <td>10277.0</td>\n",
       "      <td>3916.0</td>\n",
       "      <td>97.0</td>\n",
       "    </tr>\n",
       "  </tbody>\n",
       "</table>\n",
       "<p>2 rows × 64 columns</p>\n",
       "</div>"
      ],
      "text/plain": [
       "        0        1       2       3       4       5       6        7    8   \\\n",
       "0  31419.0  26499.0  3400.0  2120.0  8237.0  8281.0  9848.0  24173.0  0.0   \n",
       "1  26499.0  24787.0  3350.0  1813.0  7683.0  7134.0  8319.0  20963.0  0.0   \n",
       "\n",
       "        9   ...       54       55   56      57   58       59      60       61  \\\n",
       "0  26851.0  ...   3849.0  16808.0  0.0  4999.0  0.0  28669.0  2119.0  12184.0   \n",
       "1  22177.0  ...   3430.0  14263.0  0.0  3451.0  0.0  24174.0  1839.0  10277.0   \n",
       "\n",
       "       62    63  \n",
       "0  4661.0  89.0  \n",
       "1  3916.0  97.0  \n",
       "\n",
       "[2 rows x 64 columns]"
      ]
     },
     "execution_count": 37,
     "metadata": {},
     "output_type": "execute_result"
    }
   ],
   "source": [
    "corr.head(2)"
   ]
  },
  {
   "cell_type": "code",
   "execution_count": 38,
   "metadata": {
    "collapsed": false
   },
   "outputs": [],
   "source": [
    "dd = {}\n",
    "for i in range(df.columns.shape[0]):\n",
    "#     argsort_idxes = corr[i].argsort().ix[::-1].values\n",
    "    argsort_idxes = corr[i].argsort().values\n",
    "    dd[i] = argsort_idxes[argsort_idxes != i].tolist()"
   ]
  },
  {
   "cell_type": "code",
   "execution_count": 39,
   "metadata": {
    "collapsed": false
   },
   "outputs": [],
   "source": [
    "# dd contains the most correlated 4 pixels for each pixel, then try to construct an image based on such information\n",
    "# dd"
   ]
  },
  {
   "cell_type": "code",
   "execution_count": 40,
   "metadata": {
    "collapsed": false
   },
   "outputs": [],
   "source": [
    "# used_cols = []\n",
    "# pixels = dd.keys()\n",
    "# seed = np.ones((3, 3))\n",
    "# seed = -seed\n",
    "# # neighbour_idxes = [[0, 1], [1, 0], [1, 2], [2, 1]]\n",
    "# x = y = 1\n",
    "# neighbour_idxes = [(x - 1, y), (x, y - 1), (x, x + 1), (y + 1, y)]\n",
    "# while pixels:\n",
    "#     p = pixels.pop(0)\n",
    "#     counter = 0\n",
    "#     seed[1, 1] = p\n",
    "#     for i in dd[p]:  \n",
    "#         if i in used_cols:\n",
    "#             continue\n",
    "\n",
    "#         nidx = neighbour_idxes[counter]\n",
    "#         seed[nidx[0], nidx[1]] = i\n",
    "        \n",
    "#         used_cols.append(i)\n",
    "#         counter += 1\n",
    "#         if counter == 4:\n",
    "#             break\n",
    "# #         seed[0, 1] = i\n",
    "# #         seed[1, 0] = i\n",
    "# #         seed[1, 2] = i\n",
    "# #         seed[2, 1] = i\n",
    "#     break"
   ]
  },
  {
   "cell_type": "code",
   "execution_count": 41,
   "metadata": {
    "collapsed": true
   },
   "outputs": [],
   "source": [
    "def fill(center, image, dd, pixel, used_cols):\n",
    "    if len(used_cols) == len(dd.keys()):\n",
    "        return image\n",
    "    x, y = center\n",
    "    neighbour_idxes = [(x - 1, y), (x, y - 1), (x, x + 1), (y + 1, y)]\n",
    "    counter = 0\n",
    "    if image[x, y] == -1: # init\n",
    "        image[x, y] = pixel\n",
    "    for i in dd[pixel]:  \n",
    "        if i in used_cols:\n",
    "            continue\n",
    "\n",
    "        nidx = neighbour_idxes[counter]\n",
    "        if image[nidx[0], nidx[1]] == -1:\n",
    "            image[nidx[0], nidx[1]] = i\n",
    "            used_cols.append(i)\n",
    "        counter += 1\n",
    "        if counter == 4:\n",
    "            break\n",
    "\n",
    "    for k, neighbour in enumerate(neighbour_idxes):\n",
    "        # clockwise\n",
    "        if k == 0:\n",
    "            pw = [(0, 0), (1, 0)]\n",
    "            center = center\n",
    "        elif k == 1:\n",
    "            pw = [(1, 0), (0, 0)]\n",
    "            center = center\n",
    "        elif k == 2:\n",
    "            pw = [(0, 0), (0, 1)]\n",
    "            center = (center[0] + 1, center[1])\n",
    "        elif k == 3:\n",
    "            pw = [(0, 1), (0, 0)]\n",
    "            center = (center[0], center[1] + 1)\n",
    "        else:\n",
    "            raise\n",
    "        \n",
    "        padded_img = np.pad(image, pad_width=pw, mode='constant', constant_values=-1) \n",
    "        pixel = image[center[0], center[1]]\n",
    "        return fill(center, padded_img, dd, pixel, used_cols)"
   ]
  },
  {
   "cell_type": "code",
   "execution_count": 42,
   "metadata": {
    "collapsed": true
   },
   "outputs": [],
   "source": [
    "image = np.ones((3, 3))\n",
    "image = -image"
   ]
  },
  {
   "cell_type": "code",
   "execution_count": 43,
   "metadata": {
    "collapsed": false
   },
   "outputs": [
    {
     "data": {
      "text/plain": [
       "array([[ -1.,  -1.,  28.,  24.,   1.,   7.,  55.,   6.,  13.,   2.,  15.,\n",
       "         32.,  29.,  33.,  47.,  63.,  42.,  39.,  51.,  20.,  35.,   0.,\n",
       "         12.,  38.,  -1.],\n",
       "       [ -1.,  -1.,  25.,  14.,  48.,  30.,  16.,   4.,  57.,   5.,  53.,\n",
       "          3.,  50.,  19.,  45.,  44.,  41.,  58.,  10.,  37.,  34.,  52.,\n",
       "         21.,   0.,  56.],\n",
       "       [ -1.,  -1.,  -1.,  -1.,  22.,  59.,   9.,  11.,  31.,  61.,  18.,\n",
       "         60.,  62.,  54.,  26.,  49.,  46.,  43.,  27.,   8.,  40.,  36.,\n",
       "         17.,  23.,  -1.]])"
      ]
     },
     "execution_count": 43,
     "metadata": {},
     "output_type": "execute_result"
    }
   ],
   "source": [
    "used_cols = []\n",
    "pixel = dd.keys()[0]\n",
    "img = fill((1, 1), image, dd, pixel, used_cols)\n",
    "img"
   ]
  },
  {
   "cell_type": "code",
   "execution_count": 44,
   "metadata": {
    "collapsed": true
   },
   "outputs": [],
   "source": [
    "descrambled_idxes = img.astype(int)"
   ]
  },
  {
   "cell_type": "code",
   "execution_count": 45,
   "metadata": {
    "collapsed": false
   },
   "outputs": [
    {
     "data": {
      "text/plain": [
       "(3, 25)"
      ]
     },
     "execution_count": 45,
     "metadata": {},
     "output_type": "execute_result"
    }
   ],
   "source": [
    "img.shape"
   ]
  },
  {
   "cell_type": "code",
   "execution_count": 46,
   "metadata": {
    "collapsed": false
   },
   "outputs": [
    {
     "data": {
      "text/plain": [
       "3    183\n",
       "5    182\n",
       "1    182\n",
       "6    181\n",
       "4    181\n",
       "9    180\n",
       "7    179\n",
       "0    178\n",
       "2    177\n",
       "8    174\n",
       "dtype: int64"
      ]
     },
     "execution_count": 46,
     "metadata": {},
     "output_type": "execute_result"
    }
   ],
   "source": [
    "pd.Series(y).value_counts()"
   ]
  },
  {
   "cell_type": "code",
   "execution_count": 47,
   "metadata": {
    "collapsed": false
   },
   "outputs": [
    {
     "data": {
      "image/png": "[encoded data removed]",
      "text/plain": [
       "<matplotlib.figure.Figure at 0x7f79c65e0150>"
      ]
     },
     "metadata": {},
     "output_type": "display_data"
    }
   ],
   "source": [
    "# Make sure columns in df_X_scrambled is indeed scrambled\n",
    "n_per_digit = 4\n",
    "nrows, ncols = n_per_digit * 10 / 4, 4\n",
    "fig, axes = plt.subplots(nrows, ncols, sharex=True, sharey=True, figsize=(16, 8))\n",
    "axes = axes.ravel()\n",
    "for i in range(10):\n",
    "    for j in range(n_per_digit):\n",
    "        ax = axes[i * n_per_digit + j]\n",
    "        ax.matshow(df.iloc[j].values[descrambled_idxes])\n",
    "        ax.set_ylabel('{0}'.format(y[j]))\n",
    "        ax.grid(False)\n",
    "        plt.xticks([])\n",
    "        plt.yticks([])"
   ]
  },
  {
   "cell_type": "code",
   "execution_count": 48,
   "metadata": {
    "collapsed": true
   },
   "outputs": [],
   "source": [
    "df_all = df_X_scrambled.copy()"
   ]
  },
  {
   "cell_type": "code",
   "execution_count": 49,
   "metadata": {
    "collapsed": true
   },
   "outputs": [],
   "source": [
    "df_all.rename(columns=dict(zip(df.columns.values, range(df.columns.shape[0]))), inplace=True)"
   ]
  },
  {
   "cell_type": "code",
   "execution_count": 50,
   "metadata": {
    "collapsed": false
   },
   "outputs": [
    {
     "data": {
      "image/png": "[encoded data removed]",
      "text/plain": [
       "<matplotlib.figure.Figure at 0x7f7989adac10>"
      ]
     },
     "metadata": {},
     "output_type": "display_data"
    }
   ],
   "source": [
    "# Make sure columns in df_X_scrambled is indeed scrambled\n",
    "n_per_digit = 4\n",
    "nrows, ncols = n_per_digit * 10 / 4, 4\n",
    "fig, axes = plt.subplots(nrows, ncols, sharex=True, sharey=True, figsize=(16, 8))\n",
    "axes = axes.ravel()\n",
    "for i in range(10):\n",
    "    for j in range(n_per_digit):\n",
    "        ax = axes[i * n_per_digit + j]\n",
    "        ax.matshow(df_all.iloc[j + 180 * i].values[descrambled_idxes])\n",
    "        ax.set_ylabel('{0}'.format(y[j + 180 * i]))\n",
    "        ax.grid(False)\n",
    "        plt.xticks([])\n",
    "        plt.yticks([])"
   ]
  },
  {
   "cell_type": "code",
   "execution_count": null,
   "metadata": {
    "collapsed": true
   },
   "outputs": [],
   "source": []
  },
  {
   "cell_type": "code",
   "execution_count": 52,
   "metadata": {
    "collapsed": false
   },
   "outputs": [
    {
     "data": {
      "text/plain": [
       "array([[-1, -1, 28, 24,  1,  7, 55,  6],\n",
       "       [13,  2, 15, 32, 29, 33, 47, 63],\n",
       "       [42, 39, 51, 20, 35,  0, 12, 38],\n",
       "       [-1, -1, -1, 25, 14, 48, 30, 16],\n",
       "       [ 4, 57,  5, 53,  3, 50, 19, 45],\n",
       "       [44, 41, 58, 10, 37, 34, 52, 21],\n",
       "       [ 0, 56, -1, -1, -1, -1, 22, 59],\n",
       "       [ 9, 11, 31, 61, 18, 60, 62, 54]])"
      ]
     },
     "execution_count": 52,
     "metadata": {},
     "output_type": "execute_result"
    }
   ],
   "source": [
    "descrambled_idxes.ravel()[:64].reshape(8, 8)"
   ]
  },
  {
   "cell_type": "code",
   "execution_count": 54,
   "metadata": {
    "collapsed": false
   },
   "outputs": [
    {
     "data": {
      "image/png": "[encoded data removed]",
      "text/plain": [
       "<matplotlib.figure.Figure at 0x7f7989c10d90>"
      ]
     },
     "metadata": {},
     "output_type": "display_data"
    }
   ],
   "source": [
    "# Make sure columns in df_X_scrambled is indeed scrambled\n",
    "n_per_digit = 8\n",
    "nrows, ncols = 10, n_per_digit\n",
    "fig, axes = plt.subplots(nrows, ncols, sharex=True, sharey=True, figsize=(16, 16))\n",
    "axes = axes.ravel()\n",
    "for i in range(10):\n",
    "    for j in range(n_per_digit):\n",
    "        ax = axes[i * n_per_digit + j]\n",
    "        ax.matshow(df_all.iloc[j + 180 * i].values[descrambled_idxes.ravel()[:64].reshape(8, 8)])\n",
    "        ax.set_ylabel('{0}'.format(y[j + 180 * i]))\n",
    "        ax.grid(False)\n",
    "        plt.xticks([])\n",
    "        plt.yticks([])"
   ]
  },
  {
   "cell_type": "markdown",
   "metadata": {},
   "source": [
    "This is a pattern for each digit, but far from as obvious as the original."
   ]
  },
  {
   "cell_type": "code",
   "execution_count": null,
   "metadata": {
    "collapsed": true
   },
   "outputs": [],
   "source": []
  },
  {
   "cell_type": "code",
   "execution_count": null,
   "metadata": {
    "collapsed": true
   },
   "outputs": [],
   "source": []
  },
  {
   "cell_type": "code",
   "execution_count": null,
   "metadata": {
    "collapsed": true
   },
   "outputs": [],
   "source": []
  },
  {
   "cell_type": "code",
   "execution_count": null,
   "metadata": {
    "collapsed": true
   },
   "outputs": [],
   "source": []
  },
  {
   "cell_type": "code",
   "execution_count": 92,
   "metadata": {
    "collapsed": false
   },
   "outputs": [
    {
     "data": {
      "text/plain": [
       "array([[32, 15, 17, 26, 50,  3,  9, 21],\n",
       "       [11, 52, 46, 48, 60, 57, 61, 63],\n",
       "       [31, 20, 13, 35,  0, 55, 55,  7],\n",
       "       [12, 23, 10,  8,  2, 47, 16, 30],\n",
       "       [59, 24, 44, 58, 14, 42, 28,  4],\n",
       "       [51, 37, 34, 41, 41,  0, 13, 45],\n",
       "       [62, 53, 25, 56, 43, 29, 54,  1],\n",
       "       [19, 40, 27,  6, 18, 22, 33, 49]])"
      ]
     },
     "execution_count": 92,
     "metadata": {},
     "output_type": "execute_result"
    }
   ],
   "source": [
    "descrambled_idxes"
   ]
  },
  {
   "cell_type": "code",
   "execution_count": 94,
   "metadata": {
    "collapsed": false
   },
   "outputs": [],
   "source": [
    "vals = df.iloc[0].values[descrambled_idxes]"
   ]
  },
  {
   "cell_type": "code",
   "execution_count": 95,
   "metadata": {
    "collapsed": false
   },
   "outputs": [
    {
     "data": {
      "text/plain": [
       "<matplotlib.image.AxesImage at 0x7f8b1ae015d0>"
      ]
     },
     "execution_count": 95,
     "metadata": {},
     "output_type": "execute_result"
    },
    {
     "data": {
      "image/png": "[encoded data removed]",
      "text/plain": [
       "<matplotlib.figure.Figure at 0x7f8b1b596250>"
      ]
     },
     "metadata": {},
     "output_type": "display_data"
    }
   ],
   "source": [
    "plt.matshow(vals)"
   ]
  },
  {
   "cell_type": "code",
   "execution_count": 87,
   "metadata": {
    "collapsed": false
   },
   "outputs": [
    {
     "data": {
      "text/plain": [
       "63.0"
      ]
     },
     "execution_count": 87,
     "metadata": {},
     "output_type": "execute_result"
    }
   ],
   "source": [
    "descrambled_idxes.max()"
   ]
  },
  {
   "cell_type": "code",
   "execution_count": 88,
   "metadata": {
    "collapsed": false
   },
   "outputs": [
    {
     "data": {
      "text/plain": [
       "array([[ 10.,   0.,   5.,  12.,  13.,  14.,   8.,   1.],\n",
       "       [  0.,   4.,   8.,   4.,   0.,   0.,   0.,   5.],\n",
       "       [  2.,   0.,   0.,  13.,   0.,   0.,   0.,   9.],\n",
       "       [ 10.,  15.,   9.,   0.,   2.,  15.,   0.,   5.],\n",
       "       [  8.,   7.,   0.,   0.,   0.,   0.,   0.,   0.],\n",
       "       [  0.,   8.,   1.,   0.,   0.,   0.,   0.,  15.],\n",
       "       [ 13.,  10.,   0.,  12.,  12.,  11.,  11.,   6.],\n",
       "       [  8.,   0.,   3.,   5.,   0.,   0.,   0.,   0.]])"
      ]
     },
     "execution_count": 88,
     "metadata": {},
     "output_type": "execute_result"
    }
   ],
   "source": [
    "vals[descrambled_idxes.astype(int)]"
   ]
  },
  {
   "cell_type": "code",
   "execution_count": 73,
   "metadata": {
    "collapsed": true
   },
   "outputs": [],
   "source": [
    "a = np.array([1, 2, 3, 4])"
   ]
  },
  {
   "cell_type": "code",
   "execution_count": 74,
   "metadata": {
    "collapsed": false
   },
   "outputs": [
    {
     "data": {
      "text/plain": [
       "array([1, 2, 3, 4])"
      ]
     },
     "execution_count": 74,
     "metadata": {},
     "output_type": "execute_result"
    }
   ],
   "source": [
    "a"
   ]
  },
  {
   "cell_type": "code",
   "execution_count": 75,
   "metadata": {
    "collapsed": false
   },
   "outputs": [
    {
     "data": {
      "text/plain": [
       "array([[1, 2],\n",
       "       [3, 3]])"
      ]
     },
     "execution_count": 75,
     "metadata": {},
     "output_type": "execute_result"
    }
   ],
   "source": [
    "a[np.array([[0, 1], [2, 2]])]"
   ]
  },
  {
   "cell_type": "code",
   "execution_count": 54,
   "metadata": {
    "collapsed": false
   },
   "outputs": [
    {
     "name": "stdout",
     "output_type": "stream",
     "text": [
      "Automatic pdb calling has been turned OFF\n"
     ]
    }
   ],
   "source": [
    "%pdb"
   ]
  },
  {
   "cell_type": "code",
   "execution_count": 289,
   "metadata": {
    "collapsed": false
   },
   "outputs": [
    {
     "data": {
      "text/plain": [
       "array([[ -1.,  43.,  -1.],\n",
       "       [ 15.,   0.,  19.],\n",
       "       [ -1.,  62.,  -1.],\n",
       "       [ -1.,  -1.,  -1.]])"
      ]
     },
     "execution_count": 289,
     "metadata": {},
     "output_type": "execute_result"
    }
   ],
   "source": [
    "np.pad(img, pad_width=[(0, 1), (0, 0)], mode='constant', constant_values=-1)"
   ]
  },
  {
   "cell_type": "code",
   "execution_count": null,
   "metadata": {
    "collapsed": true
   },
   "outputs": [],
   "source": []
  },
  {
   "cell_type": "code",
   "execution_count": null,
   "metadata": {
    "collapsed": true
   },
   "outputs": [],
   "source": []
  },
  {
   "cell_type": "code",
   "execution_count": null,
   "metadata": {
    "collapsed": true
   },
   "outputs": [],
   "source": []
  },
  {
   "cell_type": "code",
   "execution_count": null,
   "metadata": {
    "collapsed": true
   },
   "outputs": [],
   "source": []
  },
  {
   "cell_type": "code",
   "execution_count": null,
   "metadata": {
    "collapsed": true
   },
   "outputs": [],
   "source": []
  },
  {
   "cell_type": "code",
   "execution_count": null,
   "metadata": {
    "collapsed": true
   },
   "outputs": [],
   "source": []
  },
  {
   "cell_type": "code",
   "execution_count": null,
   "metadata": {
    "collapsed": true
   },
   "outputs": [],
   "source": []
  },
  {
   "cell_type": "code",
   "execution_count": 39,
   "metadata": {
    "collapsed": false
   },
   "outputs": [
    {
     "name": "stdout",
     "output_type": "stream",
     "text": [
      "[t-SNE] Computing pairwise distances...\n",
      "[t-SNE] Computing 91 nearest neighbors...\n",
      "[t-SNE] Computed conditional probabilities for sample 1000 / 1797\n",
      "[t-SNE] Computed conditional probabilities for sample 1797 / 1797\n",
      "[t-SNE] Mean sigma: 8.121142\n",
      "[t-SNE] Iteration 25: error = 1.7601628, gradient norm = 0.0074960\n",
      "[t-SNE] Iteration 50: error = 1.5779889, gradient norm = 0.0065058\n",
      "[t-SNE] Iteration 75: error = 1.1458678, gradient norm = 0.0042113\n",
      "[t-SNE] Iteration 100: error = 1.0841460, gradient norm = 0.0042964\n",
      "[t-SNE] Error after 100 iterations with early exaggeration: 1.084146\n",
      "[t-SNE] Iteration 125: error = 0.9861298, gradient norm = 0.0041633\n",
      "[t-SNE] Iteration 150: error = 0.9696192, gradient norm = 0.0037047\n",
      "[t-SNE] Iteration 175: error = 0.9616197, gradient norm = 0.0039074\n",
      "[t-SNE] Iteration 200: error = 0.9655997, gradient norm = 0.0043739\n",
      "[t-SNE] Iteration 225: error = 0.9687797, gradient norm = 0.0047719\n",
      "[t-SNE] Iteration 225: did not make any progress during the last 30 episodes. Finished.\n",
      "[t-SNE] Error after 225 iterations: 0.968780\n"
     ]
    }
   ],
   "source": [
    "digits_proj = TSNE(random_state=RS, verbose=2).fit_transform(df_X_scrambled.values)"
   ]
  },
  {
   "cell_type": "code",
   "execution_count": 40,
   "metadata": {
    "collapsed": false
   },
   "outputs": [
    {
     "data": {
      "text/plain": [
       "(<matplotlib.figure.Figure at 0x7f9804685690>,\n",
       " <matplotlib.axes._subplots.AxesSubplot at 0x7f9804678750>,\n",
       " <matplotlib.collections.PathCollection at 0x7f9848677d10>,\n",
       " [<matplotlib.text.Text at 0x7f984868e550>,\n",
       "  <matplotlib.text.Text at 0x7f984868ec50>,\n",
       "  <matplotlib.text.Text at 0x7f984867e250>,\n",
       "  <matplotlib.text.Text at 0x7f984867e810>,\n",
       "  <matplotlib.text.Text at 0x7f984867edd0>,\n",
       "  <matplotlib.text.Text at 0x7f984866c3d0>,\n",
       "  <matplotlib.text.Text at 0x7f984866c990>,\n",
       "  <matplotlib.text.Text at 0x7f984866cf50>,\n",
       "  <matplotlib.text.Text at 0x7f9802685550>,\n",
       "  <matplotlib.text.Text at 0x7f9802685b10>])"
      ]
     },
     "execution_count": 40,
     "metadata": {},
     "output_type": "execute_result"
    },
    {
     "data": {
      "image/png": "[encoded data removed]",
      "text/plain": [
       "<matplotlib.figure.Figure at 0x7f9804685690>"
      ]
     },
     "metadata": {},
     "output_type": "display_data"
    }
   ],
   "source": [
    "scatter(digits_proj, y)"
   ]
  },
  {
   "cell_type": "markdown",
   "metadata": {},
   "source": [
    "You can see that even after being scrambled, the dataset can still be clustered in exactly the same way (with the same random seed) by t-SNE"
   ]
  },
  {
   "cell_type": "code",
   "execution_count": null,
   "metadata": {
    "collapsed": true
   },
   "outputs": [],
   "source": []
  },
  {
   "cell_type": "code",
   "execution_count": null,
   "metadata": {
    "collapsed": true
   },
   "outputs": [],
   "source": []
  },
  {
   "cell_type": "code",
   "execution_count": null,
   "metadata": {
    "collapsed": true
   },
   "outputs": [],
   "source": []
  },
  {
   "cell_type": "code",
   "execution_count": null,
   "metadata": {
    "collapsed": true
   },
   "outputs": [],
   "source": []
  },
  {
   "cell_type": "code",
   "execution_count": null,
   "metadata": {
    "collapsed": true
   },
   "outputs": [],
   "source": []
  }
 ],
 "metadata": {
  "kernelspec": {
   "display_name": "Python 2",
   "language": "python",
   "name": "python2"
  },
  "language_info": {
   "codemirror_mode": {
    "name": "ipython",
    "version": 2
   },
   "file_extension": ".py",
   "mimetype": "text/x-python",
   "name": "python",
   "nbconvert_exporter": "python",
   "pygments_lexer": "ipython2",
   "version": "2.7.12"
  }
 },
 "nbformat": 4,
 "nbformat_minor": 0
}
